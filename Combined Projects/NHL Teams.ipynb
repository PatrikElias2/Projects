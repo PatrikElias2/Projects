{
 "cells": [
  {
   "cell_type": "code",
   "execution_count": 41,
   "id": "48ad6d8c",
   "metadata": {},
   "outputs": [
    {
     "name": "stdout",
     "output_type": "stream",
     "text": [
      "Team data saved to 'NHL_teams.xlsx'.\n"
     ]
    }
   ],
   "source": [
    "import requests\n",
    "from bs4 import BeautifulSoup\n",
    "import pandas as pd\n",
    "\n",
    "# Base URL and total number of pages\n",
    "base_url = \"https://www.scrapethissite.com/pages/forms/?page_num=\"\n",
    "num_pages = 24\n",
    "\n",
    "# Empty list to store all team data\n",
    "all_teams = []\n",
    "\n",
    "# Loop through all pages\n",
    "for page_number in range(1, num_pages + 1):\n",
    "    url = base_url + str(page_number)\n",
    "\n",
    "    try:\n",
    "        # Send GET request with reasonable timeout (adjust if needed)\n",
    "        response = requests.get(url, timeout=10)\n",
    "        response.raise_for_status()  # Raise an exception for non-200 status codes\n",
    "\n",
    "        # Parse HTML content\n",
    "        soup = BeautifulSoup(response.content, 'html.parser')\n",
    "\n",
    "        # Find table and titles (handle potential absence)\n",
    "        table = soup.find('table')\n",
    "        if not table:\n",
    "            print(f\"Warning: Table not found on page {page_number}\")\n",
    "            continue\n",
    "\n",
    "        titles = table.find('tr')\n",
    "        if not titles:\n",
    "            print(f\"Warning: Titles row not found on page {page_number}\")\n",
    "            continue\n",
    "\n",
    "        # Extract table titles\n",
    "        world_table_titles = [title.text.strip() for title in titles if title.text.strip()]\n",
    "\n",
    "        # Find teams and iterate\n",
    "        teams = table.find_all('tr', class_=\"team\")\n",
    "        for row in teams:\n",
    "            # Extract data from each team row\n",
    "            row_data = row.find_all('td')\n",
    "            individual_row_data = [data.text.strip() for data in row_data]\n",
    "\n",
    "            # Append team data to all_teams list\n",
    "            all_teams.append(individual_row_data)\n",
    "\n",
    "    except requests.exceptions.RequestException as e:\n",
    "        print(f\"Error fetching page {page_number}: {e}\")\n",
    "\n",
    "# Create pandas DataFrame with extracted data\n",
    "if all_teams:  # Check if any data was scraped\n",
    "    df = pd.DataFrame(all_teams, columns=world_table_titles)\n",
    "\n",
    "    # Specify filename for Excel output (adjust as needed)\n",
    "    filename = \"NHL_teams.xlsx\"\n",
    "\n",
    "    try:\n",
    "        df.to_excel(filename, index=False)  # Save DataFrame to Excel, exclude index\n",
    "        print(f\"Team data saved to '{filename}'.\")\n",
    "    except PermissionError as e:\n",
    "        print(f\"Error saving to '{filename}': {e}\")\n",
    "        print(\"Make sure the file is not already open or in use.\")\n",
    "\n",
    "else:\n",
    "    print(\"No teams found on any pages.\")\n"
   ]
  },
  {
   "cell_type": "code",
   "execution_count": null,
   "id": "bf3809c9",
   "metadata": {},
   "outputs": [],
   "source": []
  }
 ],
 "metadata": {
  "kernelspec": {
   "display_name": "Python 3 (ipykernel)",
   "language": "python",
   "name": "python3"
  },
  "language_info": {
   "codemirror_mode": {
    "name": "ipython",
    "version": 3
   },
   "file_extension": ".py",
   "mimetype": "text/x-python",
   "name": "python",
   "nbconvert_exporter": "python",
   "pygments_lexer": "ipython3",
   "version": "3.11.5"
  }
 },
 "nbformat": 4,
 "nbformat_minor": 5
}
